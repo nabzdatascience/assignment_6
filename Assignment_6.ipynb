{
 "cells": [
  {
   "cell_type": "markdown",
   "id": "5060bf04",
   "metadata": {},
   "source": [
    "Ans1: An escape character is used to insert an illegal character in a string. An escape character is a backslash \\ followed by the character to be inserted.\n",
    "For example:\n"
   ]
  },
  {
   "cell_type": "code",
   "execution_count": 1,
   "id": "88282979",
   "metadata": {},
   "outputs": [
    {
     "ename": "SyntaxError",
     "evalue": "invalid syntax (Temp/ipykernel_15020/4027733396.py, line 1)",
     "output_type": "error",
     "traceback": [
      "\u001b[1;36m  File \u001b[1;32m\"C:\\Users\\Sanjoy\\AppData\\Local\\Temp/ipykernel_15020/4027733396.py\"\u001b[1;36m, line \u001b[1;32m1\u001b[0m\n\u001b[1;33m    p='It's alright'\u001b[0m\n\u001b[1;37m          ^\u001b[0m\n\u001b[1;31mSyntaxError\u001b[0m\u001b[1;31m:\u001b[0m invalid syntax\n"
     ]
    }
   ],
   "source": [
    "p='It's alright'\n",
    "p"
   ]
  },
  {
   "cell_type": "markdown",
   "id": "15e2c51d",
   "metadata": {},
   "source": [
    "But if we insert the escape character followed by single quote, then it will execute correctly."
   ]
  },
  {
   "cell_type": "code",
   "execution_count": 2,
   "id": "9a505b38",
   "metadata": {},
   "outputs": [
    {
     "data": {
      "text/plain": [
       "\"It's alright\""
      ]
     },
     "execution_count": 2,
     "metadata": {},
     "output_type": "execute_result"
    }
   ],
   "source": [
    "p='It\\'s alright'\n",
    "p"
   ]
  },
  {
   "cell_type": "markdown",
   "id": "56493ca3",
   "metadata": {},
   "source": [
    "Ans2:The escape characters n and t stand for newline and tab respectively"
   ]
  },
  {
   "cell_type": "code",
   "execution_count": 3,
   "id": "a6bfee76",
   "metadata": {},
   "outputs": [
    {
     "data": {
      "text/plain": [
       "\"Howl's Moving Castle\""
      ]
     },
     "execution_count": 3,
     "metadata": {},
     "output_type": "execute_result"
    }
   ],
   "source": [
    "m=\"Howl's Moving Castle\"\n",
    "m"
   ]
  },
  {
   "cell_type": "markdown",
   "id": "9051ce2f",
   "metadata": {},
   "source": [
    "Ans4:The word Howl's has not thrown an error because the string started and ended with double quotes."
   ]
  },
  {
   "cell_type": "markdown",
   "id": "a271c77d",
   "metadata": {},
   "source": [
    "Ans 5 If we do not want to use the n character to write a string of new lines, then we can write print () for each string as the example given below"
   ]
  },
  {
   "cell_type": "code",
   "execution_count": 7,
   "id": "c0532409",
   "metadata": {},
   "outputs": [
    {
     "name": "stdout",
     "output_type": "stream",
     "text": [
      "My name is xyz\n",
      "your name is abc\n"
     ]
    }
   ],
   "source": [
    "print(\"My name is xyz\\nyour name is abc\")"
   ]
  },
  {
   "cell_type": "code",
   "execution_count": 9,
   "id": "dd8fcd28",
   "metadata": {},
   "outputs": [
    {
     "name": "stdout",
     "output_type": "stream",
     "text": [
      "My name is xyz\n",
      "your name is abc\n"
     ]
    }
   ],
   "source": [
    "print(\"My name is xyz\")\n",
    "print(\"your name is abc\")"
   ]
  },
  {
   "cell_type": "markdown",
   "id": "7183df10",
   "metadata": {},
   "source": [
    "Ans6:The value of 'Hello,world'[1] is 'e'\n",
    "The value of 'Hello,world'[0:5] is 'Hello'\n",
    "The value of 'Hello,world'[:5] is 'Hello'\n",
    "The value of 'Hello,world'[3:] is 'lo,world'"
   ]
  },
  {
   "cell_type": "markdown",
   "id": "81d3877e",
   "metadata": {},
   "source": [
    " Ans7'Hello'.upper() ='HELLO'\n",
    "      'Hello'.upper().isupper()=True\n",
    "      'Hello'.upper().lower()='hello'\n",
    " "
   ]
  },
  {
   "cell_type": "markdown",
   "id": "9c72b17b",
   "metadata": {},
   "source": [
    "Ans 8 'Remember,remember,the fifth of July.'.split()=['Remember,remember,the', 'fifth', 'of', 'July.']"
   ]
  },
  {
   "cell_type": "markdown",
   "id": "5a3afad1",
   "metadata": {},
   "source": [
    "'-'.join('There can only one'.split())='There-can-only-one'"
   ]
  },
  {
   "cell_type": "code",
   "execution_count": 33,
   "id": "c138898a",
   "metadata": {},
   "outputs": [
    {
     "name": "stdout",
     "output_type": "stream",
     "text": [
      "twinkle   \n",
      "   twinkle\n",
      " twinkle  \n"
     ]
    }
   ],
   "source": [
    "#Ans 9:\n",
    "p='twinkle'\n",
    "width=10\n",
    "print(p.ljust(width))\n",
    "\n",
    "p='twinkle'\n",
    "width=10\n",
    "print(p.rjust(width))\n",
    "\n",
    "p='twinkle'\n",
    "width=10\n",
    "print(p.center(width))\n"
   ]
  },
  {
   "cell_type": "code",
   "execution_count": 34,
   "id": "cfae009d",
   "metadata": {
    "scrolled": true
   },
   "outputs": [
    {
     "name": "stdout",
     "output_type": "stream",
     "text": [
      "1234567      \n"
     ]
    }
   ],
   "source": [
    "#Ans 10:\n",
    "x='    1234567      '\n",
    "print(x.lstrip())"
   ]
  },
  {
   "cell_type": "code",
   "execution_count": 35,
   "id": "4af9d2b6",
   "metadata": {},
   "outputs": [
    {
     "name": "stdout",
     "output_type": "stream",
     "text": [
      "    1234567\n"
     ]
    }
   ],
   "source": [
    "x='    1234567      '\n",
    "print(x.rstrip())"
   ]
  },
  {
   "cell_type": "code",
   "execution_count": 36,
   "id": "8b035554",
   "metadata": {},
   "outputs": [
    {
     "name": "stdout",
     "output_type": "stream",
     "text": [
      "1234567\n"
     ]
    }
   ],
   "source": [
    "x='    1234567      '\n",
    "print(x.strip())"
   ]
  }
 ],
 "metadata": {
  "kernelspec": {
   "display_name": "Python 3 (ipykernel)",
   "language": "python",
   "name": "python3"
  },
  "language_info": {
   "codemirror_mode": {
    "name": "ipython",
    "version": 3
   },
   "file_extension": ".py",
   "mimetype": "text/x-python",
   "name": "python",
   "nbconvert_exporter": "python",
   "pygments_lexer": "ipython3",
   "version": "3.9.7"
  }
 },
 "nbformat": 4,
 "nbformat_minor": 5
}
